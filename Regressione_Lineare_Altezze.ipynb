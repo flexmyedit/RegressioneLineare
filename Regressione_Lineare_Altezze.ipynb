{
 "cells": [
  {
   "cell_type": "markdown",
   "id": "20be5b49",
   "metadata": {
    "id": "20be5b49"
   },
   "source": [
    "# 📊 Regressione Lineare con il Dataset delle Altezze\n",
    "\n",
    "In questo notebook esploreremo un dataset contenente l'altezza dei padri (`fheight`) e dei figli (`sheight`), con l'obiettivo di costruire un modello di regressione lineare per prevedere l'altezza del figlio conoscendo quella del padre.\n",
    "\n",
    "---\n",
    "\n",
    "## Obiettivo\n",
    "\n",
    "Guidarti passo dopo passo attraverso il ciclo di vita di un progetto di *Machine Learning supervisionato*, includendo:\n",
    "- Esplorazione dei dati\n",
    "- Preprocessing\n",
    "- Addestramento del modello\n",
    "- Valutazione\n",
    "- Visualizzazione dei risultati\n"
   ]
  },
  {
   "cell_type": "markdown",
   "id": "77e4c836",
   "metadata": {
    "id": "77e4c836"
   },
   "source": [
    "## 🔍 1. Esplorazione del dataset"
   ]
  },
  {
   "cell_type": "markdown",
   "id": "29744039",
   "metadata": {
    "id": "29744039"
   },
   "source": [
    "### ✏️ Esercizio 1.1\n",
    "Carica il dataset `pearson_dataset.csv` e stampa le prime 5 righe per esplorare la struttura dei dati.\n"
   ]
  },
  {
   "cell_type": "code",
   "execution_count": 3,
   "id": "PPMDGTVy_Mbp",
   "metadata": {
    "id": "PPMDGTVy_Mbp"
   },
   "outputs": [
    {
     "data": {
      "text/html": [
       "<div>\n",
       "<style scoped>\n",
       "    .dataframe tbody tr th:only-of-type {\n",
       "        vertical-align: middle;\n",
       "    }\n",
       "\n",
       "    .dataframe tbody tr th {\n",
       "        vertical-align: top;\n",
       "    }\n",
       "\n",
       "    .dataframe thead th {\n",
       "        text-align: right;\n",
       "    }\n",
       "</style>\n",
       "<table border=\"1\" class=\"dataframe\">\n",
       "  <thead>\n",
       "    <tr style=\"text-align: right;\">\n",
       "      <th></th>\n",
       "      <th>fheight</th>\n",
       "      <th>sheight</th>\n",
       "    </tr>\n",
       "  </thead>\n",
       "  <tbody>\n",
       "    <tr>\n",
       "      <th>0</th>\n",
       "      <td>65.04851</td>\n",
       "      <td>59.77827</td>\n",
       "    </tr>\n",
       "    <tr>\n",
       "      <th>1</th>\n",
       "      <td>63.25094</td>\n",
       "      <td>63.21404</td>\n",
       "    </tr>\n",
       "    <tr>\n",
       "      <th>2</th>\n",
       "      <td>64.95532</td>\n",
       "      <td>63.34242</td>\n",
       "    </tr>\n",
       "    <tr>\n",
       "      <th>3</th>\n",
       "      <td>65.75250</td>\n",
       "      <td>62.79238</td>\n",
       "    </tr>\n",
       "    <tr>\n",
       "      <th>4</th>\n",
       "      <td>61.13723</td>\n",
       "      <td>64.28113</td>\n",
       "    </tr>\n",
       "  </tbody>\n",
       "</table>\n",
       "</div>"
      ],
      "text/plain": [
       "    fheight   sheight\n",
       "0  65.04851  59.77827\n",
       "1  63.25094  63.21404\n",
       "2  64.95532  63.34242\n",
       "3  65.75250  62.79238\n",
       "4  61.13723  64.28113"
      ]
     },
     "execution_count": 3,
     "metadata": {},
     "output_type": "execute_result"
    }
   ],
   "source": [
    "# Qui faccio l'esercizio 1.1\n",
    "\n",
    "import pandas as pd\n",
    "\n",
    "dataframe =pd.read_csv(\"pearson_dataset.csv\")\n",
    "\n",
    "dataframe.head()"
   ]
  },
  {
   "cell_type": "markdown",
   "id": "05171f16",
   "metadata": {
    "id": "05171f16"
   },
   "source": [
    "### ✏️ Esercizio 1.2\n",
    "Calcola media, mediana e deviazione standard delle due colonne `fheight` e `sheight`.\n"
   ]
  },
  {
   "cell_type": "code",
   "execution_count": 4,
   "id": "NEZIWloG_Pca",
   "metadata": {
    "id": "NEZIWloG_Pca"
   },
   "outputs": [
    {
     "ename": "TypeError",
     "evalue": "Cannot convert ['pearson_dataset.csv'] to numeric",
     "output_type": "error",
     "traceback": [
      "\u001b[31m---------------------------------------------------------------------------\u001b[39m",
      "\u001b[31mTypeError\u001b[39m                                 Traceback (most recent call last)",
      "\u001b[36mCell\u001b[39m\u001b[36m \u001b[39m\u001b[32mIn[4]\u001b[39m\u001b[32m, line 7\u001b[39m\n\u001b[32m      4\u001b[39m sheight = dataframe[[\u001b[33m'\u001b[39m\u001b[33msheight\u001b[39m\u001b[33m'\u001b[39m]]\n\u001b[32m      6\u001b[39m s = pd.Series(\u001b[33m\"\u001b[39m\u001b[33mpearson_dataset.csv\u001b[39m\u001b[33m\"\u001b[39m)\n\u001b[32m----> \u001b[39m\u001b[32m7\u001b[39m \u001b[43ms\u001b[49m\u001b[43m.\u001b[49m\u001b[43mmedian\u001b[49m\u001b[43m(\u001b[49m\u001b[43m)\u001b[49m\n",
      "\u001b[36mFile \u001b[39m\u001b[32m~\\Desktop\\RegressioneLineare\\virtuale1\\Lib\\site-packages\\pandas\\core\\series.py:6559\u001b[39m, in \u001b[36mSeries.median\u001b[39m\u001b[34m(self, axis, skipna, numeric_only, **kwargs)\u001b[39m\n\u001b[32m   6551\u001b[39m \u001b[38;5;129m@doc\u001b[39m(make_doc(\u001b[33m\"\u001b[39m\u001b[33mmedian\u001b[39m\u001b[33m\"\u001b[39m, ndim=\u001b[32m1\u001b[39m))\n\u001b[32m   6552\u001b[39m \u001b[38;5;28;01mdef\u001b[39;00m\u001b[38;5;250m \u001b[39m\u001b[34mmedian\u001b[39m(\n\u001b[32m   6553\u001b[39m     \u001b[38;5;28mself\u001b[39m,\n\u001b[32m   (...)\u001b[39m\u001b[32m   6557\u001b[39m     **kwargs,\n\u001b[32m   6558\u001b[39m ):\n\u001b[32m-> \u001b[39m\u001b[32m6559\u001b[39m     \u001b[38;5;28;01mreturn\u001b[39;00m \u001b[43mNDFrame\u001b[49m\u001b[43m.\u001b[49m\u001b[43mmedian\u001b[49m\u001b[43m(\u001b[49m\u001b[38;5;28;43mself\u001b[39;49m\u001b[43m,\u001b[49m\u001b[43m \u001b[49m\u001b[43maxis\u001b[49m\u001b[43m,\u001b[49m\u001b[43m \u001b[49m\u001b[43mskipna\u001b[49m\u001b[43m,\u001b[49m\u001b[43m \u001b[49m\u001b[43mnumeric_only\u001b[49m\u001b[43m,\u001b[49m\u001b[43m \u001b[49m\u001b[43m*\u001b[49m\u001b[43m*\u001b[49m\u001b[43mkwargs\u001b[49m\u001b[43m)\u001b[49m\n",
      "\u001b[36mFile \u001b[39m\u001b[32m~\\Desktop\\RegressioneLineare\\virtuale1\\Lib\\site-packages\\pandas\\core\\generic.py:12431\u001b[39m, in \u001b[36mNDFrame.median\u001b[39m\u001b[34m(self, axis, skipna, numeric_only, **kwargs)\u001b[39m\n\u001b[32m  12424\u001b[39m \u001b[38;5;28;01mdef\u001b[39;00m\u001b[38;5;250m \u001b[39m\u001b[34mmedian\u001b[39m(\n\u001b[32m  12425\u001b[39m     \u001b[38;5;28mself\u001b[39m,\n\u001b[32m  12426\u001b[39m     axis: Axis | \u001b[38;5;28;01mNone\u001b[39;00m = \u001b[32m0\u001b[39m,\n\u001b[32m   (...)\u001b[39m\u001b[32m  12429\u001b[39m     **kwargs,\n\u001b[32m  12430\u001b[39m ) -> Series | \u001b[38;5;28mfloat\u001b[39m:\n\u001b[32m> \u001b[39m\u001b[32m12431\u001b[39m     \u001b[38;5;28;01mreturn\u001b[39;00m \u001b[38;5;28;43mself\u001b[39;49m\u001b[43m.\u001b[49m\u001b[43m_stat_function\u001b[49m\u001b[43m(\u001b[49m\n\u001b[32m  12432\u001b[39m \u001b[43m        \u001b[49m\u001b[33;43m\"\u001b[39;49m\u001b[33;43mmedian\u001b[39;49m\u001b[33;43m\"\u001b[39;49m\u001b[43m,\u001b[49m\u001b[43m \u001b[49m\u001b[43mnanops\u001b[49m\u001b[43m.\u001b[49m\u001b[43mnanmedian\u001b[49m\u001b[43m,\u001b[49m\u001b[43m \u001b[49m\u001b[43maxis\u001b[49m\u001b[43m,\u001b[49m\u001b[43m \u001b[49m\u001b[43mskipna\u001b[49m\u001b[43m,\u001b[49m\u001b[43m \u001b[49m\u001b[43mnumeric_only\u001b[49m\u001b[43m,\u001b[49m\u001b[43m \u001b[49m\u001b[43m*\u001b[49m\u001b[43m*\u001b[49m\u001b[43mkwargs\u001b[49m\n\u001b[32m  12433\u001b[39m \u001b[43m    \u001b[49m\u001b[43m)\u001b[49m\n",
      "\u001b[36mFile \u001b[39m\u001b[32m~\\Desktop\\RegressioneLineare\\virtuale1\\Lib\\site-packages\\pandas\\core\\generic.py:12377\u001b[39m, in \u001b[36mNDFrame._stat_function\u001b[39m\u001b[34m(self, name, func, axis, skipna, numeric_only, **kwargs)\u001b[39m\n\u001b[32m  12373\u001b[39m nv.validate_func(name, (), kwargs)\n\u001b[32m  12375\u001b[39m validate_bool_kwarg(skipna, \u001b[33m\"\u001b[39m\u001b[33mskipna\u001b[39m\u001b[33m\"\u001b[39m, none_allowed=\u001b[38;5;28;01mFalse\u001b[39;00m)\n\u001b[32m> \u001b[39m\u001b[32m12377\u001b[39m \u001b[38;5;28;01mreturn\u001b[39;00m \u001b[38;5;28;43mself\u001b[39;49m\u001b[43m.\u001b[49m\u001b[43m_reduce\u001b[49m\u001b[43m(\u001b[49m\n\u001b[32m  12378\u001b[39m \u001b[43m    \u001b[49m\u001b[43mfunc\u001b[49m\u001b[43m,\u001b[49m\u001b[43m \u001b[49m\u001b[43mname\u001b[49m\u001b[43m=\u001b[49m\u001b[43mname\u001b[49m\u001b[43m,\u001b[49m\u001b[43m \u001b[49m\u001b[43maxis\u001b[49m\u001b[43m=\u001b[49m\u001b[43maxis\u001b[49m\u001b[43m,\u001b[49m\u001b[43m \u001b[49m\u001b[43mskipna\u001b[49m\u001b[43m=\u001b[49m\u001b[43mskipna\u001b[49m\u001b[43m,\u001b[49m\u001b[43m \u001b[49m\u001b[43mnumeric_only\u001b[49m\u001b[43m=\u001b[49m\u001b[43mnumeric_only\u001b[49m\n\u001b[32m  12379\u001b[39m \u001b[43m\u001b[49m\u001b[43m)\u001b[49m\n",
      "\u001b[36mFile \u001b[39m\u001b[32m~\\Desktop\\RegressioneLineare\\virtuale1\\Lib\\site-packages\\pandas\\core\\series.py:6457\u001b[39m, in \u001b[36mSeries._reduce\u001b[39m\u001b[34m(self, op, name, axis, skipna, numeric_only, filter_type, **kwds)\u001b[39m\n\u001b[32m   6452\u001b[39m     \u001b[38;5;66;03m# GH#47500 - change to TypeError to match other methods\u001b[39;00m\n\u001b[32m   6453\u001b[39m     \u001b[38;5;28;01mraise\u001b[39;00m \u001b[38;5;167;01mTypeError\u001b[39;00m(\n\u001b[32m   6454\u001b[39m         \u001b[33mf\u001b[39m\u001b[33m\"\u001b[39m\u001b[33mSeries.\u001b[39m\u001b[38;5;132;01m{\u001b[39;00mname\u001b[38;5;132;01m}\u001b[39;00m\u001b[33m does not allow \u001b[39m\u001b[38;5;132;01m{\u001b[39;00mkwd_name\u001b[38;5;132;01m}\u001b[39;00m\u001b[33m=\u001b[39m\u001b[38;5;132;01m{\u001b[39;00mnumeric_only\u001b[38;5;132;01m}\u001b[39;00m\u001b[33m \u001b[39m\u001b[33m\"\u001b[39m\n\u001b[32m   6455\u001b[39m         \u001b[33m\"\u001b[39m\u001b[33mwith non-numeric dtypes.\u001b[39m\u001b[33m\"\u001b[39m\n\u001b[32m   6456\u001b[39m     )\n\u001b[32m-> \u001b[39m\u001b[32m6457\u001b[39m \u001b[38;5;28;01mreturn\u001b[39;00m \u001b[43mop\u001b[49m\u001b[43m(\u001b[49m\u001b[43mdelegate\u001b[49m\u001b[43m,\u001b[49m\u001b[43m \u001b[49m\u001b[43mskipna\u001b[49m\u001b[43m=\u001b[49m\u001b[43mskipna\u001b[49m\u001b[43m,\u001b[49m\u001b[43m \u001b[49m\u001b[43m*\u001b[49m\u001b[43m*\u001b[49m\u001b[43mkwds\u001b[49m\u001b[43m)\u001b[49m\n",
      "\u001b[36mFile \u001b[39m\u001b[32m~\\Desktop\\RegressioneLineare\\virtuale1\\Lib\\site-packages\\pandas\\core\\nanops.py:147\u001b[39m, in \u001b[36mbottleneck_switch.__call__.<locals>.f\u001b[39m\u001b[34m(values, axis, skipna, **kwds)\u001b[39m\n\u001b[32m    145\u001b[39m         result = alt(values, axis=axis, skipna=skipna, **kwds)\n\u001b[32m    146\u001b[39m \u001b[38;5;28;01melse\u001b[39;00m:\n\u001b[32m--> \u001b[39m\u001b[32m147\u001b[39m     result = \u001b[43malt\u001b[49m\u001b[43m(\u001b[49m\u001b[43mvalues\u001b[49m\u001b[43m,\u001b[49m\u001b[43m \u001b[49m\u001b[43maxis\u001b[49m\u001b[43m=\u001b[49m\u001b[43maxis\u001b[49m\u001b[43m,\u001b[49m\u001b[43m \u001b[49m\u001b[43mskipna\u001b[49m\u001b[43m=\u001b[49m\u001b[43mskipna\u001b[49m\u001b[43m,\u001b[49m\u001b[43m \u001b[49m\u001b[43m*\u001b[49m\u001b[43m*\u001b[49m\u001b[43mkwds\u001b[49m\u001b[43m)\u001b[49m\n\u001b[32m    149\u001b[39m \u001b[38;5;28;01mreturn\u001b[39;00m result\n",
      "\u001b[36mFile \u001b[39m\u001b[32m~\\Desktop\\RegressioneLineare\\virtuale1\\Lib\\site-packages\\pandas\\core\\nanops.py:787\u001b[39m, in \u001b[36mnanmedian\u001b[39m\u001b[34m(values, axis, skipna, mask)\u001b[39m\n\u001b[32m    785\u001b[39m     inferred = lib.infer_dtype(values)\n\u001b[32m    786\u001b[39m     \u001b[38;5;28;01mif\u001b[39;00m inferred \u001b[38;5;129;01min\u001b[39;00m [\u001b[33m\"\u001b[39m\u001b[33mstring\u001b[39m\u001b[33m\"\u001b[39m, \u001b[33m\"\u001b[39m\u001b[33mmixed\u001b[39m\u001b[33m\"\u001b[39m]:\n\u001b[32m--> \u001b[39m\u001b[32m787\u001b[39m         \u001b[38;5;28;01mraise\u001b[39;00m \u001b[38;5;167;01mTypeError\u001b[39;00m(\u001b[33mf\u001b[39m\u001b[33m\"\u001b[39m\u001b[33mCannot convert \u001b[39m\u001b[38;5;132;01m{\u001b[39;00mvalues\u001b[38;5;132;01m}\u001b[39;00m\u001b[33m to numeric\u001b[39m\u001b[33m\"\u001b[39m)\n\u001b[32m    788\u001b[39m \u001b[38;5;28;01mtry\u001b[39;00m:\n\u001b[32m    789\u001b[39m     values = values.astype(\u001b[33m\"\u001b[39m\u001b[33mf8\u001b[39m\u001b[33m\"\u001b[39m)\n",
      "\u001b[31mTypeError\u001b[39m: Cannot convert ['pearson_dataset.csv'] to numeric"
     ]
    }
   ],
   "source": [
    "# Qui esercizio 1.2\n",
    "\n",
    "fheight = dataframe[['fheight']]\n",
    "sheight = dataframe[['sheight']]\n",
    "\n"
   ]
  },
  {
   "cell_type": "markdown",
   "id": "0f2d56aa",
   "metadata": {
    "id": "0f2d56aa"
   },
   "source": [
    "### ✏️ Esercizio 1.3\n",
    "Invoca la funzione per disegnare uno scatterplot con `fheight` sull'asse X e `sheight` sull'asse Y per visualizzare la relazione tra le due variabili.\n",
    "\n",
    "\n"
   ]
  },
  {
   "cell_type": "code",
   "execution_count": 1,
   "id": "4qTBIKPw_fbi",
   "metadata": {
    "id": "4qTBIKPw_fbi"
   },
   "outputs": [
    {
     "ename": "KeyboardInterrupt",
     "evalue": "",
     "output_type": "error",
     "traceback": [
      "\u001b[31m---------------------------------------------------------------------------\u001b[39m",
      "\u001b[31mKeyboardInterrupt\u001b[39m                         Traceback (most recent call last)",
      "\u001b[36mCell\u001b[39m\u001b[36m \u001b[39m\u001b[32mIn[1]\u001b[39m\u001b[32m, line 1\u001b[39m\n\u001b[32m----> \u001b[39m\u001b[32m1\u001b[39m \u001b[38;5;28;01mimport\u001b[39;00m\u001b[38;5;250m \u001b[39m\u001b[34;01mmatplotlib\u001b[39;00m\u001b[34;01m.\u001b[39;00m\u001b[34;01mpyplot\u001b[39;00m\u001b[38;5;250m \u001b[39m\u001b[38;5;28;01mas\u001b[39;00m\u001b[38;5;250m \u001b[39m\u001b[34;01mplt\u001b[39;00m\n\u001b[32m      2\u001b[39m \u001b[38;5;28;01mdef\u001b[39;00m\u001b[38;5;250m \u001b[39m\u001b[34mplot_scatter\u001b[39m(df, x_col, y_col, x_label=\u001b[38;5;28;01mNone\u001b[39;00m, y_label=\u001b[38;5;28;01mNone\u001b[39;00m, title=\u001b[38;5;28;01mNone\u001b[39;00m):\n\u001b[32m      3\u001b[39m \u001b[38;5;250m    \u001b[39m\u001b[33;03m\"\"\"\u001b[39;00m\n\u001b[32m      4\u001b[39m \u001b[33;03m    Crea uno scatter plot generico tra due colonne di un DataFrame.\u001b[39;00m\n\u001b[32m      5\u001b[39m \n\u001b[32m   (...)\u001b[39m\u001b[32m     12\u001b[39m \u001b[33;03m    - title: titolo del grafico (opzionale)\u001b[39;00m\n\u001b[32m     13\u001b[39m \u001b[33;03m    \"\"\"\u001b[39;00m\n",
      "\u001b[36mFile \u001b[39m\u001b[32m~\\Desktop\\RegressioneLineare\\virtuale1\\Lib\\site-packages\\matplotlib\\__init__.py:161\u001b[39m\n\u001b[32m    157\u001b[39m \u001b[38;5;28;01mfrom\u001b[39;00m\u001b[38;5;250m \u001b[39m\u001b[34;01mpackaging\u001b[39;00m\u001b[34;01m.\u001b[39;00m\u001b[34;01mversion\u001b[39;00m\u001b[38;5;250m \u001b[39m\u001b[38;5;28;01mimport\u001b[39;00m parse \u001b[38;5;28;01mas\u001b[39;00m parse_version\n\u001b[32m    159\u001b[39m \u001b[38;5;66;03m# cbook must import matplotlib only within function\u001b[39;00m\n\u001b[32m    160\u001b[39m \u001b[38;5;66;03m# definitions, so it is safe to import from it here.\u001b[39;00m\n\u001b[32m--> \u001b[39m\u001b[32m161\u001b[39m \u001b[38;5;28;01mfrom\u001b[39;00m\u001b[38;5;250m \u001b[39m\u001b[34;01m.\u001b[39;00m\u001b[38;5;250m \u001b[39m\u001b[38;5;28;01mimport\u001b[39;00m _api, _version, cbook, _docstring, rcsetup\n\u001b[32m    162\u001b[39m \u001b[38;5;28;01mfrom\u001b[39;00m\u001b[38;5;250m \u001b[39m\u001b[34;01mmatplotlib\u001b[39;00m\u001b[34;01m.\u001b[39;00m\u001b[34;01m_api\u001b[39;00m\u001b[38;5;250m \u001b[39m\u001b[38;5;28;01mimport\u001b[39;00m MatplotlibDeprecationWarning\n\u001b[32m    163\u001b[39m \u001b[38;5;28;01mfrom\u001b[39;00m\u001b[38;5;250m \u001b[39m\u001b[34;01mmatplotlib\u001b[39;00m\u001b[34;01m.\u001b[39;00m\u001b[34;01mrcsetup\u001b[39;00m\u001b[38;5;250m \u001b[39m\u001b[38;5;28;01mimport\u001b[39;00m cycler  \u001b[38;5;66;03m# noqa: F401\u001b[39;00m\n",
      "\u001b[36mFile \u001b[39m\u001b[32m~\\Desktop\\RegressioneLineare\\virtuale1\\Lib\\site-packages\\matplotlib\\cbook.py:24\u001b[39m\n\u001b[32m     21\u001b[39m \u001b[38;5;28;01mimport\u001b[39;00m\u001b[38;5;250m \u001b[39m\u001b[34;01mtypes\u001b[39;00m\n\u001b[32m     22\u001b[39m \u001b[38;5;28;01mimport\u001b[39;00m\u001b[38;5;250m \u001b[39m\u001b[34;01mweakref\u001b[39;00m\n\u001b[32m---> \u001b[39m\u001b[32m24\u001b[39m \u001b[38;5;28;01mimport\u001b[39;00m\u001b[38;5;250m \u001b[39m\u001b[34;01mnumpy\u001b[39;00m\u001b[38;5;250m \u001b[39m\u001b[38;5;28;01mas\u001b[39;00m\u001b[38;5;250m \u001b[39m\u001b[34;01mnp\u001b[39;00m\n\u001b[32m     26\u001b[39m \u001b[38;5;28;01mtry\u001b[39;00m:\n\u001b[32m     27\u001b[39m     \u001b[38;5;28;01mfrom\u001b[39;00m\u001b[38;5;250m \u001b[39m\u001b[34;01mnumpy\u001b[39;00m\u001b[34;01m.\u001b[39;00m\u001b[34;01mexceptions\u001b[39;00m\u001b[38;5;250m \u001b[39m\u001b[38;5;28;01mimport\u001b[39;00m VisibleDeprecationWarning  \u001b[38;5;66;03m# numpy >= 1.25\u001b[39;00m\n",
      "\u001b[36mFile \u001b[39m\u001b[32m~\\Desktop\\RegressioneLineare\\virtuale1\\Lib\\site-packages\\numpy\\__init__.py:194\u001b[39m\n\u001b[32m    191\u001b[39m         \u001b[38;5;28;01mpass\u001b[39;00m\n\u001b[32m    192\u001b[39m \u001b[38;5;28;01mdel\u001b[39;00m ta\n\u001b[32m--> \u001b[39m\u001b[32m194\u001b[39m \u001b[38;5;28;01mfrom\u001b[39;00m\u001b[38;5;250m \u001b[39m\u001b[34;01m.\u001b[39;00m\u001b[38;5;250m \u001b[39m\u001b[38;5;28;01mimport\u001b[39;00m lib\n\u001b[32m    195\u001b[39m \u001b[38;5;28;01mfrom\u001b[39;00m\u001b[38;5;250m \u001b[39m\u001b[34;01m.\u001b[39;00m\u001b[34;01mlib\u001b[39;00m\u001b[38;5;250m \u001b[39m\u001b[38;5;28;01mimport\u001b[39;00m scimath \u001b[38;5;28;01mas\u001b[39;00m emath\n\u001b[32m    196\u001b[39m \u001b[38;5;28;01mfrom\u001b[39;00m\u001b[38;5;250m \u001b[39m\u001b[34;01m.\u001b[39;00m\u001b[34;01mlib\u001b[39;00m\u001b[34;01m.\u001b[39;00m\u001b[34;01m_histograms_impl\u001b[39;00m\u001b[38;5;250m \u001b[39m\u001b[38;5;28;01mimport\u001b[39;00m (\n\u001b[32m    197\u001b[39m     histogram, histogram_bin_edges, histogramdd\n\u001b[32m    198\u001b[39m )\n",
      "\u001b[36mFile \u001b[39m\u001b[32m~\\Desktop\\RegressioneLineare\\virtuale1\\Lib\\site-packages\\numpy\\lib\\__init__.py:27\u001b[39m\n\u001b[32m     25\u001b[39m \u001b[38;5;28;01mfrom\u001b[39;00m\u001b[38;5;250m \u001b[39m\u001b[34;01m.\u001b[39;00m\u001b[38;5;250m \u001b[39m\u001b[38;5;28;01mimport\u001b[39;00m _function_base_impl\n\u001b[32m     26\u001b[39m \u001b[38;5;28;01mfrom\u001b[39;00m\u001b[38;5;250m \u001b[39m\u001b[34;01m.\u001b[39;00m\u001b[38;5;250m \u001b[39m\u001b[38;5;28;01mimport\u001b[39;00m _stride_tricks_impl\n\u001b[32m---> \u001b[39m\u001b[32m27\u001b[39m \u001b[38;5;28;01mfrom\u001b[39;00m\u001b[38;5;250m \u001b[39m\u001b[34;01m.\u001b[39;00m\u001b[38;5;250m \u001b[39m\u001b[38;5;28;01mimport\u001b[39;00m _shape_base_impl\n\u001b[32m     28\u001b[39m \u001b[38;5;28;01mfrom\u001b[39;00m\u001b[38;5;250m \u001b[39m\u001b[34;01m.\u001b[39;00m\u001b[38;5;250m \u001b[39m\u001b[38;5;28;01mimport\u001b[39;00m _twodim_base_impl\n\u001b[32m     29\u001b[39m \u001b[38;5;28;01mfrom\u001b[39;00m\u001b[38;5;250m \u001b[39m\u001b[34;01m.\u001b[39;00m\u001b[38;5;250m \u001b[39m\u001b[38;5;28;01mimport\u001b[39;00m _ufunclike_impl\n",
      "\u001b[36mFile \u001b[39m\u001b[32m<frozen importlib._bootstrap>:1360\u001b[39m, in \u001b[36m_find_and_load\u001b[39m\u001b[34m(name, import_)\u001b[39m\n",
      "\u001b[36mFile \u001b[39m\u001b[32m<frozen importlib._bootstrap>:1331\u001b[39m, in \u001b[36m_find_and_load_unlocked\u001b[39m\u001b[34m(name, import_)\u001b[39m\n",
      "\u001b[36mFile \u001b[39m\u001b[32m<frozen importlib._bootstrap>:935\u001b[39m, in \u001b[36m_load_unlocked\u001b[39m\u001b[34m(spec)\u001b[39m\n",
      "\u001b[36mFile \u001b[39m\u001b[32m<frozen importlib._bootstrap_external>:1022\u001b[39m, in \u001b[36mexec_module\u001b[39m\u001b[34m(self, module)\u001b[39m\n",
      "\u001b[36mFile \u001b[39m\u001b[32m<frozen importlib._bootstrap_external>:1118\u001b[39m, in \u001b[36mget_code\u001b[39m\u001b[34m(self, fullname)\u001b[39m\n",
      "\u001b[36mFile \u001b[39m\u001b[32m<frozen importlib._bootstrap_external>:1217\u001b[39m, in \u001b[36mget_data\u001b[39m\u001b[34m(self, path)\u001b[39m\n",
      "\u001b[31mKeyboardInterrupt\u001b[39m: "
     ]
    }
   ],
   "source": [
    "import matplotlib.pyplot as plt\n",
    "def plot_scatter(df, x_col, y_col, x_label=None, y_label=None, title=None):\n",
    "    \"\"\"\n",
    "    Crea uno scatter plot generico tra due colonne di un DataFrame.\n",
    "\n",
    "    Parametri:\n",
    "    - df: pandas DataFrame contenente i dati\n",
    "    - x_col: nome della colonna da usare sull'asse X\n",
    "    - y_col: nome della colonna da usare sull'asse Y\n",
    "    - x_label: etichetta asse X (opzionale)\n",
    "    - y_label: etichetta asse Y (opzionale)\n",
    "    - title: titolo del grafico (opzionale)\n",
    "    \"\"\"\n",
    "    plt.figure(figsize=(8, 5))\n",
    "    plt.scatter(df[x_col], df[y_col], alpha=0.7)\n",
    "    plt.xlabel(x_label if x_label else x_col)\n",
    "    plt.ylabel(y_label if y_label else y_col)\n",
    "    plt.title(title if title else f\"{y_col} vs {x_col}\")\n",
    "    plt.grid(True)\n",
    "    plt.show()\n",
    "\n",
    "# Esempio d'uso\n",
    "# plot_scatter(df, \"fheight\", \"sheight\", \"Altezza del padre\", \"Altezza del figlio\", \"Relazione tra altezze\")\n",
    "\n"
   ]
  },
  {
   "cell_type": "markdown",
   "id": "2c3cc505",
   "metadata": {
    "id": "2c3cc505"
   },
   "source": [
    "## 🧹 2. Preprocessing dei dati"
   ]
  },
  {
   "cell_type": "markdown",
   "id": "511b76cd",
   "metadata": {
    "id": "511b76cd"
   },
   "source": [
    "### ✏️ Esercizio 2.1\n",
    "Verifica se ci sono valori nulli nel dataset.\n"
   ]
  },
  {
   "cell_type": "code",
   "execution_count": null,
   "id": "YayQsgBI_mMP",
   "metadata": {
    "id": "YayQsgBI_mMP"
   },
   "outputs": [],
   "source": [
    "# Esercizio 2.1"
   ]
  },
  {
   "cell_type": "markdown",
   "id": "53bc0158",
   "metadata": {
    "id": "53bc0158"
   },
   "source": [
    "### ✏️ Esercizio 2.2\n",
    "Standardizza o normalizza i dati (opzionale) per sperimentare come cambiano i risultati.\n"
   ]
  },
  {
   "cell_type": "code",
   "execution_count": null,
   "id": "zKGuFD-b_oe-",
   "metadata": {
    "id": "zKGuFD-b_oe-"
   },
   "outputs": [],
   "source": [
    "# Esercizio 2.2"
   ]
  },
  {
   "cell_type": "markdown",
   "id": "18d92c61",
   "metadata": {
    "id": "18d92c61"
   },
   "source": [
    "## 🤖 3. Creazione del modello"
   ]
  },
  {
   "cell_type": "markdown",
   "id": "e6918d26",
   "metadata": {
    "id": "e6918d26"
   },
   "source": [
    "### ✏️ Esercizio 3.1\n",
    "Dividi il dataset in un training set (80%) e un test set (20%).\n"
   ]
  },
  {
   "cell_type": "code",
   "execution_count": null,
   "id": "V9RbdaGr_qTC",
   "metadata": {
    "id": "V9RbdaGr_qTC"
   },
   "outputs": [],
   "source": [
    "# Esercizio 3.1"
   ]
  },
  {
   "cell_type": "markdown",
   "id": "34df7e62",
   "metadata": {
    "id": "34df7e62"
   },
   "source": [
    "### ✏️ Esercizio 3.2\n",
    "Allena un modello di regressione lineare usando i dati di training.\n"
   ]
  },
  {
   "cell_type": "code",
   "execution_count": null,
   "id": "1PxOr0iS_swM",
   "metadata": {
    "id": "1PxOr0iS_swM"
   },
   "outputs": [],
   "source": [
    "# Esercizio 3.2"
   ]
  },
  {
   "cell_type": "markdown",
   "id": "f5b04b42",
   "metadata": {
    "id": "f5b04b42"
   },
   "source": [
    "### ✏️ Esercizio 3.3\n",
    "Visualizza la retta di regressione sopra il grafico scatter.\n",
    "\n",
    "👇 Ti diamo qui un esempio di funzione da utilizzare per questo tipo di visualizzazione:\n"
   ]
  },
  {
   "cell_type": "code",
   "execution_count": null,
   "id": "3cbeb23f",
   "metadata": {
    "id": "3cbeb23f"
   },
   "outputs": [],
   "source": [
    "import matplotlib.pyplot as plt\n",
    "import numpy as np\n",
    "\n",
    "def plot_regression_line(x, y, model):\n",
    "    plt.figure(figsize=(8, 5))\n",
    "    plt.scatter(x, y, color='blue', label='Dati reali')\n",
    "    predicted = model.predict(np.array(x).reshape(-1, 1))\n",
    "    plt.plot(x, predicted, color='red', label='Retta di regressione')\n",
    "    plt.xlabel(\"Altezza del padre (fheight)\")\n",
    "    plt.ylabel(\"Altezza del figlio (sheight)\")\n",
    "    plt.title(\"Regressione Lineare\")\n",
    "    plt.legend()\n",
    "    plt.grid(True)\n",
    "    plt.show()"
   ]
  },
  {
   "cell_type": "markdown",
   "id": "21e6808b",
   "metadata": {
    "id": "21e6808b"
   },
   "source": [
    "## 📏 4. Valutazione del modello"
   ]
  },
  {
   "cell_type": "markdown",
   "id": "2f711044",
   "metadata": {
    "id": "2f711044"
   },
   "source": [
    "### ✏️ Esercizio 4.1\n",
    "Calcola l’MSE (Mean Squared Error) e R² sul test set per valutare le performance del modello.\n"
   ]
  },
  {
   "cell_type": "code",
   "execution_count": null,
   "id": "OwTM2FiF_xas",
   "metadata": {
    "id": "OwTM2FiF_xas"
   },
   "outputs": [],
   "source": [
    "# Esercizio 4.1"
   ]
  },
  {
   "cell_type": "markdown",
   "id": "9b03c17c",
   "metadata": {
    "id": "9b03c17c"
   },
   "source": [
    "### ✏️ Esercizio 4.2\n",
    "Usa il modello per prevedere l’altezza di un figlio dato un valore ipotetico di altezza del padre (es. 70 pollici).\n"
   ]
  },
  {
   "cell_type": "code",
   "execution_count": null,
   "id": "TJuxVr0F_1kJ",
   "metadata": {
    "id": "TJuxVr0F_1kJ"
   },
   "outputs": [],
   "source": [
    "# Esercizio 4.2"
   ]
  },
  {
   "cell_type": "markdown",
   "id": "29cbf672",
   "metadata": {
    "id": "29cbf672"
   },
   "source": [
    "## 🚀 5. Pezzi finali"
   ]
  },
  {
   "cell_type": "markdown",
   "id": "bd28b477",
   "metadata": {
    "id": "bd28b477"
   },
   "source": [
    "### ✏️ Esercizio 5.1\n",
    "Aggiungi del rumore casuale ai dati e osserva come cambiano i risultati della regressione.\n"
   ]
  },
  {
   "cell_type": "code",
   "execution_count": null,
   "id": "sxGRb89O_3wZ",
   "metadata": {
    "id": "sxGRb89O_3wZ"
   },
   "outputs": [],
   "source": [
    "# Esercizio 5.1"
   ]
  },
  {
   "cell_type": "markdown",
   "id": "13d9eed1",
   "metadata": {
    "id": "13d9eed1"
   },
   "source": [
    "### ✏️ Esercizio 5.2\n",
    "Crea una funzione che prende in input l’altezza del padre da tastiera e restituisce la previsione dell’altezza del figlio.\n"
   ]
  },
  {
   "cell_type": "code",
   "execution_count": null,
   "id": "66Ba7B4R_5ma",
   "metadata": {
    "id": "66Ba7B4R_5ma"
   },
   "outputs": [],
   "source": [
    "# Esercizio 5.2"
   ]
  }
 ],
 "metadata": {
  "colab": {
   "provenance": []
  },
  "kernelspec": {
   "display_name": "Python 3 (ipykernel)",
   "language": "python",
   "name": "python3"
  },
  "language_info": {
   "codemirror_mode": {
    "name": "ipython",
    "version": 3
   },
   "file_extension": ".py",
   "mimetype": "text/x-python",
   "name": "python",
   "nbconvert_exporter": "python",
   "pygments_lexer": "ipython3",
   "version": "3.13.2"
  }
 },
 "nbformat": 4,
 "nbformat_minor": 5
}
